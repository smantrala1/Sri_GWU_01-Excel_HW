{
 "cells": [
  {
   "cell_type": "markdown",
   "metadata": {},
   "source": [
    "# VacationPy\n",
    "----\n",
    "\n",
    "#### Note\n",
    "* Instructions have been included for each segment. You do not have to follow them exactly, but they are included to help you think through the steps."
   ]
  },
  {
   "cell_type": "code",
   "execution_count": 1,
   "metadata": {},
   "outputs": [],
   "source": [
    "%matplotlib inline"
   ]
  },
  {
   "cell_type": "code",
   "execution_count": 2,
   "metadata": {},
   "outputs": [
    {
     "name": "stderr",
     "output_type": "stream",
     "text": [
      "Enabling notebook extension jupyter-gmaps/extension...\n",
      "      - Validating: ok\n"
     ]
    }
   ],
   "source": [
    "# Dependencies and Setup\n",
    "import matplotlib.pyplot as plt\n",
    "import pandas as pd\n",
    "import numpy as np\n",
    "import requests\n",
    "import gmaps\n",
    "import os\n",
    "\n",
    "# Import API key\n",
    "from api_keys import g_key\n",
    "\n",
    "!jupyter nbextension enable --py gmaps\n",
    "import gmaps.datasets"
   ]
  },
  {
   "cell_type": "markdown",
   "metadata": {},
   "source": [
    "### Store Part I results into DataFrame\n",
    "* Load the csv exported in Part I to a DataFrame"
   ]
  },
  {
   "cell_type": "code",
   "execution_count": 3,
   "metadata": {},
   "outputs": [
    {
     "data": {
      "text/html": [
       "<div>\n",
       "<style scoped>\n",
       "    .dataframe tbody tr th:only-of-type {\n",
       "        vertical-align: middle;\n",
       "    }\n",
       "\n",
       "    .dataframe tbody tr th {\n",
       "        vertical-align: top;\n",
       "    }\n",
       "\n",
       "    .dataframe thead th {\n",
       "        text-align: right;\n",
       "    }\n",
       "</style>\n",
       "<table border=\"1\" class=\"dataframe\">\n",
       "  <thead>\n",
       "    <tr style=\"text-align: right;\">\n",
       "      <th></th>\n",
       "      <th>Unnamed: 0</th>\n",
       "      <th>City</th>\n",
       "      <th>Lat</th>\n",
       "      <th>Lng</th>\n",
       "      <th>Max Temp (F)</th>\n",
       "      <th>Humidity</th>\n",
       "      <th>Cloudiness</th>\n",
       "      <th>Wind Speed</th>\n",
       "      <th>Country</th>\n",
       "      <th>Date</th>\n",
       "    </tr>\n",
       "  </thead>\n",
       "  <tbody>\n",
       "    <tr>\n",
       "      <th>0</th>\n",
       "      <td>0</td>\n",
       "      <td>flin flon</td>\n",
       "      <td>54.77</td>\n",
       "      <td>-101.86</td>\n",
       "      <td>55.40</td>\n",
       "      <td>66</td>\n",
       "      <td>20</td>\n",
       "      <td>5.82</td>\n",
       "      <td>CA</td>\n",
       "      <td>1590175860</td>\n",
       "    </tr>\n",
       "    <tr>\n",
       "      <th>1</th>\n",
       "      <td>1</td>\n",
       "      <td>georgetown</td>\n",
       "      <td>5.41</td>\n",
       "      <td>100.34</td>\n",
       "      <td>80.60</td>\n",
       "      <td>88</td>\n",
       "      <td>40</td>\n",
       "      <td>6.93</td>\n",
       "      <td>MY</td>\n",
       "      <td>1590175721</td>\n",
       "    </tr>\n",
       "    <tr>\n",
       "      <th>2</th>\n",
       "      <td>2</td>\n",
       "      <td>ushuaia</td>\n",
       "      <td>-54.80</td>\n",
       "      <td>-68.30</td>\n",
       "      <td>53.60</td>\n",
       "      <td>40</td>\n",
       "      <td>75</td>\n",
       "      <td>8.05</td>\n",
       "      <td>AR</td>\n",
       "      <td>1590175646</td>\n",
       "    </tr>\n",
       "    <tr>\n",
       "      <th>3</th>\n",
       "      <td>3</td>\n",
       "      <td>puerto ayora</td>\n",
       "      <td>-0.74</td>\n",
       "      <td>-90.35</td>\n",
       "      <td>84.20</td>\n",
       "      <td>62</td>\n",
       "      <td>20</td>\n",
       "      <td>16.11</td>\n",
       "      <td>EC</td>\n",
       "      <td>1590175860</td>\n",
       "    </tr>\n",
       "    <tr>\n",
       "      <th>4</th>\n",
       "      <td>4</td>\n",
       "      <td>hun</td>\n",
       "      <td>29.13</td>\n",
       "      <td>15.95</td>\n",
       "      <td>71.64</td>\n",
       "      <td>56</td>\n",
       "      <td>12</td>\n",
       "      <td>17.74</td>\n",
       "      <td>LY</td>\n",
       "      <td>1590175860</td>\n",
       "    </tr>\n",
       "  </tbody>\n",
       "</table>\n",
       "</div>"
      ],
      "text/plain": [
       "   Unnamed: 0          City    Lat     Lng  Max Temp (F)  Humidity  \\\n",
       "0           0     flin flon  54.77 -101.86         55.40        66   \n",
       "1           1    georgetown   5.41  100.34         80.60        88   \n",
       "2           2       ushuaia -54.80  -68.30         53.60        40   \n",
       "3           3  puerto ayora  -0.74  -90.35         84.20        62   \n",
       "4           4           hun  29.13   15.95         71.64        56   \n",
       "\n",
       "   Cloudiness  Wind Speed Country        Date  \n",
       "0          20        5.82      CA  1590175860  \n",
       "1          40        6.93      MY  1590175721  \n",
       "2          75        8.05      AR  1590175646  \n",
       "3          20       16.11      EC  1590175860  \n",
       "4          12       17.74      LY  1590175860  "
      ]
     },
     "execution_count": 3,
     "metadata": {},
     "output_type": "execute_result"
    }
   ],
   "source": [
    "weather_df = pd.read_csv(\"output_cities.csv\")\n",
    "\n",
    "weather_df.head()\n",
    "\n"
   ]
  },
  {
   "cell_type": "markdown",
   "metadata": {},
   "source": [
    "### Humidity Heatmap\n",
    "* Configure gmaps.\n",
    "* Use the Lat and Lng as locations and Humidity as the weight.\n",
    "* Add Heatmap layer to map."
   ]
  },
  {
   "cell_type": "code",
   "execution_count": 4,
   "metadata": {},
   "outputs": [
    {
     "data": {
      "application/vnd.jupyter.widget-view+json": {
       "model_id": "656e274aff6748e589be6daf2f12c638",
       "version_major": 2,
       "version_minor": 0
      },
      "text/plain": [
       "Figure(layout=FigureLayout(height='420px'))"
      ]
     },
     "metadata": {},
     "output_type": "display_data"
    }
   ],
   "source": [
    "gmaps.configure(api_key=g_key) # Fill in with your API key\n",
    "locations = weather_df[['Lat', 'Lng']]\n",
    "weights = weather_df['Humidity']\n",
    "#to have the maps centered and zoomed. \n",
    "algeria_coordinates = (46.45, 3.2)\n",
    "fig = gmaps.figure(center=algeria_coordinates,zoom_level=2)\n",
    "\n",
    "fig.add_layer(gmaps.heatmap_layer(locations, weights=weights))\n",
    "fig"
   ]
  },
  {
   "cell_type": "markdown",
   "metadata": {},
   "source": [
    "### Create new DataFrame fitting weather criteria\n",
    "* Narrow down the cities to fit weather conditions.\n",
    "* Drop any rows will null values."
   ]
  },
  {
   "cell_type": "code",
   "execution_count": 5,
   "metadata": {},
   "outputs": [
    {
     "name": "stdout",
     "output_type": "stream",
     "text": [
      "100.35\n"
     ]
    }
   ],
   "source": [
    "print(weather_df['Max Temp (F)'].max())"
   ]
  },
  {
   "cell_type": "markdown",
   "metadata": {},
   "source": [
    "* A max temperature lower than 80 degrees but higher than 70.\n",
    "* Wind speed less than 10 mph.\n",
    "* Zero cloudiness.\n",
    "* Drop any rows that don't contain all three conditions. You want to be sure the weather is ideal."
   ]
  },
  {
   "cell_type": "code",
   "execution_count": 6,
   "metadata": {},
   "outputs": [
    {
     "data": {
      "text/html": [
       "<div>\n",
       "<style scoped>\n",
       "    .dataframe tbody tr th:only-of-type {\n",
       "        vertical-align: middle;\n",
       "    }\n",
       "\n",
       "    .dataframe tbody tr th {\n",
       "        vertical-align: top;\n",
       "    }\n",
       "\n",
       "    .dataframe thead th {\n",
       "        text-align: right;\n",
       "    }\n",
       "</style>\n",
       "<table border=\"1\" class=\"dataframe\">\n",
       "  <thead>\n",
       "    <tr style=\"text-align: right;\">\n",
       "      <th></th>\n",
       "      <th>Unnamed: 0</th>\n",
       "      <th>City</th>\n",
       "      <th>Lat</th>\n",
       "      <th>Lng</th>\n",
       "      <th>Max Temp (F)</th>\n",
       "      <th>Humidity</th>\n",
       "      <th>Cloudiness</th>\n",
       "      <th>Wind Speed</th>\n",
       "      <th>Country</th>\n",
       "      <th>Date</th>\n",
       "    </tr>\n",
       "  </thead>\n",
       "  <tbody>\n",
       "    <tr>\n",
       "      <th>217</th>\n",
       "      <td>217</td>\n",
       "      <td>sao filipe</td>\n",
       "      <td>14.90</td>\n",
       "      <td>-24.50</td>\n",
       "      <td>75.47</td>\n",
       "      <td>70</td>\n",
       "      <td>0</td>\n",
       "      <td>6.69</td>\n",
       "      <td>CV</td>\n",
       "      <td>1590175889</td>\n",
       "    </tr>\n",
       "    <tr>\n",
       "      <th>221</th>\n",
       "      <td>221</td>\n",
       "      <td>namibe</td>\n",
       "      <td>-15.20</td>\n",
       "      <td>12.15</td>\n",
       "      <td>76.60</td>\n",
       "      <td>59</td>\n",
       "      <td>0</td>\n",
       "      <td>7.36</td>\n",
       "      <td>AO</td>\n",
       "      <td>1590175890</td>\n",
       "    </tr>\n",
       "    <tr>\n",
       "      <th>269</th>\n",
       "      <td>269</td>\n",
       "      <td>komsomolskiy</td>\n",
       "      <td>40.43</td>\n",
       "      <td>71.72</td>\n",
       "      <td>71.60</td>\n",
       "      <td>43</td>\n",
       "      <td>0</td>\n",
       "      <td>6.93</td>\n",
       "      <td>UZ</td>\n",
       "      <td>1590175894</td>\n",
       "    </tr>\n",
       "    <tr>\n",
       "      <th>357</th>\n",
       "      <td>357</td>\n",
       "      <td>miandrivazo</td>\n",
       "      <td>-19.52</td>\n",
       "      <td>45.47</td>\n",
       "      <td>70.32</td>\n",
       "      <td>56</td>\n",
       "      <td>0</td>\n",
       "      <td>1.41</td>\n",
       "      <td>MG</td>\n",
       "      <td>1590175901</td>\n",
       "    </tr>\n",
       "    <tr>\n",
       "      <th>369</th>\n",
       "      <td>369</td>\n",
       "      <td>caravelas</td>\n",
       "      <td>-17.71</td>\n",
       "      <td>-39.25</td>\n",
       "      <td>75.87</td>\n",
       "      <td>82</td>\n",
       "      <td>0</td>\n",
       "      <td>4.70</td>\n",
       "      <td>BR</td>\n",
       "      <td>1590175902</td>\n",
       "    </tr>\n",
       "    <tr>\n",
       "      <th>396</th>\n",
       "      <td>396</td>\n",
       "      <td>dawlatabad</td>\n",
       "      <td>36.41</td>\n",
       "      <td>64.91</td>\n",
       "      <td>75.61</td>\n",
       "      <td>23</td>\n",
       "      <td>0</td>\n",
       "      <td>1.03</td>\n",
       "      <td>AF</td>\n",
       "      <td>1590175904</td>\n",
       "    </tr>\n",
       "    <tr>\n",
       "      <th>407</th>\n",
       "      <td>407</td>\n",
       "      <td>kosonsoy</td>\n",
       "      <td>41.26</td>\n",
       "      <td>71.55</td>\n",
       "      <td>71.60</td>\n",
       "      <td>43</td>\n",
       "      <td>0</td>\n",
       "      <td>6.93</td>\n",
       "      <td>UZ</td>\n",
       "      <td>1590175905</td>\n",
       "    </tr>\n",
       "    <tr>\n",
       "      <th>427</th>\n",
       "      <td>427</td>\n",
       "      <td>ambilobe</td>\n",
       "      <td>-13.20</td>\n",
       "      <td>49.05</td>\n",
       "      <td>70.92</td>\n",
       "      <td>80</td>\n",
       "      <td>0</td>\n",
       "      <td>1.99</td>\n",
       "      <td>MG</td>\n",
       "      <td>1590175907</td>\n",
       "    </tr>\n",
       "    <tr>\n",
       "      <th>511</th>\n",
       "      <td>511</td>\n",
       "      <td>maragogi</td>\n",
       "      <td>-9.01</td>\n",
       "      <td>-35.22</td>\n",
       "      <td>79.59</td>\n",
       "      <td>85</td>\n",
       "      <td>0</td>\n",
       "      <td>7.47</td>\n",
       "      <td>BR</td>\n",
       "      <td>1590175868</td>\n",
       "    </tr>\n",
       "  </tbody>\n",
       "</table>\n",
       "</div>"
      ],
      "text/plain": [
       "     Unnamed: 0          City    Lat    Lng  Max Temp (F)  Humidity  \\\n",
       "217         217    sao filipe  14.90 -24.50         75.47        70   \n",
       "221         221        namibe -15.20  12.15         76.60        59   \n",
       "269         269  komsomolskiy  40.43  71.72         71.60        43   \n",
       "357         357   miandrivazo -19.52  45.47         70.32        56   \n",
       "369         369     caravelas -17.71 -39.25         75.87        82   \n",
       "396         396    dawlatabad  36.41  64.91         75.61        23   \n",
       "407         407      kosonsoy  41.26  71.55         71.60        43   \n",
       "427         427      ambilobe -13.20  49.05         70.92        80   \n",
       "511         511      maragogi  -9.01 -35.22         79.59        85   \n",
       "\n",
       "     Cloudiness  Wind Speed Country        Date  \n",
       "217           0        6.69      CV  1590175889  \n",
       "221           0        7.36      AO  1590175890  \n",
       "269           0        6.93      UZ  1590175894  \n",
       "357           0        1.41      MG  1590175901  \n",
       "369           0        4.70      BR  1590175902  \n",
       "396           0        1.03      AF  1590175904  \n",
       "407           0        6.93      UZ  1590175905  \n",
       "427           0        1.99      MG  1590175907  \n",
       "511           0        7.47      BR  1590175868  "
      ]
     },
     "execution_count": 6,
     "metadata": {},
     "output_type": "execute_result"
    }
   ],
   "source": [
    "# temp range\n",
    "clean_df = weather_df.loc[(weather_df[\"Max Temp (F)\"] > 70) & (weather_df[\"Max Temp (F)\"] < 80)]\n",
    "#wind speed\n",
    "clean_df = clean_df.loc[clean_df[\"Wind Speed\"] < 10]\n",
    "#cloudiness\n",
    "clean_df = clean_df.loc[clean_df[\"Cloudiness\"] == 0]\n",
    "clean_df = clean_df.dropna()\n",
    "clean_df"
   ]
  },
  {
   "cell_type": "code",
   "execution_count": null,
   "metadata": {},
   "outputs": [],
   "source": []
  },
  {
   "cell_type": "markdown",
   "metadata": {},
   "source": [
    "### Hotel Map\n",
    "* Store into variable named `hotel_df`.\n",
    "* Add a \"Hotel Name\" column to the DataFrame.\n",
    "* Set parameters to search for hotels with 5000 meters.\n",
    "* Hit the Google Places API for each city's coordinates.\n",
    "* Store the first Hotel result into the DataFrame.\n",
    "* Plot markers on top of the heatmap."
   ]
  },
  {
   "cell_type": "markdown",
   "metadata": {},
   "source": [
    " Using Google Places API to find the first hotel for each city located within 5000 meters of your coordinates."
   ]
  },
  {
   "cell_type": "code",
   "execution_count": 7,
   "metadata": {},
   "outputs": [],
   "source": [
    "hotel_df = clean_df.copy()\n",
    "#hotel_df\n",
    "\n",
    "params = {\n",
    "    \"radius\": 5000,\n",
    "    \"types\": \"lodging\",\n",
    "    \"key\": g_key\n",
    "}\n",
    "x=0\n",
    "base_url = \"https://maps.googleapis.com/maps/api/place/nearbysearch/json\"\n",
    "for index, row in hotel_df.iterrows():\n",
    "    lat = row[\"Lat\"]\n",
    "    lng = row[\"Lng\"]\n",
    "    city=row[\"City\"]\n",
    "    x=x+1\n",
    "    params[\"location\"] = f\"{lat},{lng}\"\n",
    "    response = requests.get(base_url, params=params).json()\n",
    "       \n",
    "    results = response['results']\n",
    "    \n",
    "    try:\n",
    "        \n",
    "        hotel_df.loc[index, 'Hotel Name'] = results[0]['name']\n",
    "        \n",
    "    except (KeyError, IndexError):\n",
    "        #hotelname=results[0]['name']\n",
    "        print(f\"{x}.No hotels within 5000 meters of {city}.\")\n",
    "        "
   ]
  },
  {
   "cell_type": "code",
   "execution_count": 8,
   "metadata": {},
   "outputs": [],
   "source": [
    "hotel_df1 =hotel_df.dropna()\n",
    "hotel_df1.to_csv('hotel_df.csv')\n"
   ]
  },
  {
   "cell_type": "code",
   "execution_count": 9,
   "metadata": {},
   "outputs": [],
   "source": [
    "# NOTE: Do not change any of the code in this cell\n",
    "\n",
    "# Using the template add the hotel marks to the heatmap\n",
    "info_box_template = \"\"\"\n",
    "<dl>\n",
    "<dt>Name</dt><dd>{Hotel Name}</dd>\n",
    "<dt>City</dt><dd>{City}</dd>\n",
    "<dt>Country</dt><dd>{Country}</dd>\n",
    "</dl>\n",
    "\"\"\"\n",
    "# Store the DataFrame Row\n",
    "# NOTE: be sure to update with your DataFrame name\n",
    "hotel_info = [info_box_template.format(**row) for index, row in hotel_df1.iterrows()]\n",
    "locations = hotel_df1[[\"Lat\", \"Lng\"]]"
   ]
  },
  {
   "cell_type": "code",
   "execution_count": 10,
   "metadata": {},
   "outputs": [
    {
     "data": {
      "application/vnd.jupyter.widget-view+json": {
       "model_id": "2195e5a8b4d64b65bfd65f380647a148",
       "version_major": 2,
       "version_minor": 0
      },
      "text/plain": [
       "Figure(layout=FigureLayout(height='420px'))"
      ]
     },
     "metadata": {},
     "output_type": "display_data"
    }
   ],
   "source": [
    "# Add marker layer ontop of heat map\n",
    "markers = gmaps.marker_layer(locations)\n",
    "\n",
    "# Create hotel symbol layer\n",
    "hotel_layer = gmaps.symbol_layer(\n",
    "    locations, fill_color='rgba(0, 150, 0, 0.4)',\n",
    "    stroke_color='rgba(0, 0, 150, 0.4)', scale=2,\n",
    "    info_box_content=hotel_info\n",
    ")\n",
    "# Add the layer to the map\n",
    "locations = weather_df[['Lat', 'Lng']]\n",
    "weights = weather_df['Humidity']\n",
    "algeria_coordinates = (46.45, 3.2)\n",
    "fig1 = gmaps.figure(center=algeria_coordinates,zoom_level=1)\n",
    "fig1.add_layer(markers)\n",
    "fig1.add_layer(hotel_layer)\n",
    "fig1.add_layer(gmaps.heatmap_layer(locations, weights=weights))\n",
    "fig1\n",
    "# Display figure\n"
   ]
  }
 ],
 "metadata": {
  "kernelspec": {
   "display_name": "Python 3",
   "language": "python",
   "name": "python3"
  },
  "language_info": {
   "codemirror_mode": {
    "name": "ipython",
    "version": 3
   },
   "file_extension": ".py",
   "mimetype": "text/x-python",
   "name": "python",
   "nbconvert_exporter": "python",
   "pygments_lexer": "ipython3",
   "version": "3.7.6"
  },
  "latex_envs": {
   "LaTeX_envs_menu_present": true,
   "autoclose": false,
   "autocomplete": true,
   "bibliofile": "biblio.bib",
   "cite_by": "apalike",
   "current_citInitial": 1,
   "eqLabelWithNumbers": true,
   "eqNumInitial": 1,
   "hotkeys": {
    "equation": "Ctrl-E",
    "itemize": "Ctrl-I"
   },
   "labels_anchors": false,
   "latex_user_defs": false,
   "report_style_numbering": false,
   "user_envs_cfg": false
  }
 },
 "nbformat": 4,
 "nbformat_minor": 2
}
